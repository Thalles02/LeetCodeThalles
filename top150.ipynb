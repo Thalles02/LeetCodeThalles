{
 "cells": [
  {
   "cell_type": "code",
   "execution_count": 1,
   "metadata": {},
   "outputs": [],
   "source": [
    "# space for dependencies\n",
    "from typing import List"
   ]
  },
  {
   "cell_type": "code",
   "execution_count": null,
   "metadata": {},
   "outputs": [],
   "source": [
    "# 88. Merge Sorted Array - https://leetcode.com/problems/merge-sorted-array/?envType=study-plan-v2&envId=top-interview-150\n",
    "\n",
    "\n",
    "# My initial solution\n",
    "class Solution:\n",
    "    def merge(self, nums1: List[int], m: int, nums2: List[int], n: int) -> None:\n",
    "        \"\"\"\n",
    "        Do not return anything, modify nums1 in-place instead.\n",
    "        \"\"\"\n",
    "        count_array2 = 0\n",
    "        count_array1 = 0\n",
    "        array_3 = []\n",
    "\n",
    "        while len(array_3) < n+m:\n",
    "\n",
    "            if count_array1 < m and (count_array2 >= n or nums1[count_array1] <= nums2[count_array2]):\n",
    "                array_3.append(nums1[count_array1])\n",
    "                #print(f\"Primeiro caso i: {nums1[count_array1]}, k: {nums2[count_array2]}, Contador 1: {count_array1}, Contador 2: {count_array2}\")\n",
    "                count_array1 += 1\n",
    "            elif count_array2 < n:\n",
    "                array_3.append(nums2[count_array2])\n",
    "                #print(f\"Primeiro caso i: {nums1[count_array1]}, k: {nums2[count_array2]}, Contador 1: {count_array1}, Contador 2: {count_array2}\")\n",
    "                count_array2 += 1\n",
    "\n",
    "            if n == 0:\n",
    "                array_3 = nums1\n",
    "            \n",
    "            if m == 0:\n",
    "                array_3 = nums2\n",
    "\n",
    "        for idx in range(0,n+m):\n",
    "            nums1[idx] = array_3[idx]\n",
    "\n",
    "        print(nums1)\n",
    "\n",
    "\n",
    "# Optimized Solution\n",
    "class Solution:\n",
    "    def merge(self, nums1: List[int], m: int, nums2: List[int], n: int) -> None:\n",
    "        # Definir último elemento de nums1\n",
    "        last = m+n-1\n",
    "\n",
    "        #Merge \n",
    "        while m > 0 and n > 0:\n",
    "            if nums1[m-1] > nums2[n-1]:\n",
    "                nums1[last] = nums1[m-1]\n",
    "                m-=1\n",
    "            else:\n",
    "                nums1[last] = nums2[n-1]\n",
    "                n-=1\n",
    "            last-=1\n",
    "\n",
    "        # Quando faltar apenas o primeiro elemento\n",
    "        while n> 0:\n",
    "            nums1[last] = nums2[n-1]\n",
    "            n, last = n-1, last-1"
   ]
  },
  {
   "cell_type": "code",
   "execution_count": null,
   "metadata": {},
   "outputs": [],
   "source": [
    "# 27. Remove Element\n",
    "\n",
    "class Solution:\n",
    "    def removeElement(self, nums: List[int], val: int) -> int:\n",
    "        k = 0\n",
    "\n",
    "        for num in nums:\n",
    "            if num != val:\n",
    "                nums[k] = num\n",
    "                k += 1\n",
    "\n",
    "        return k\n"
   ]
  },
  {
   "cell_type": "code",
   "execution_count": null,
   "metadata": {},
   "outputs": [],
   "source": [
    "# 26. Remove Duplicates from Sorted Array\n",
    "\n",
    "class Solution:\n",
    "    def removeDuplicates(self, nums: List[int]) -> int:\n",
    "        k = 1\n",
    "        for i in range(1, len(nums)):\n",
    "            if nums[i] != nums[i - 1]:\n",
    "                nums[k] = nums[i] \n",
    "                k += 1  \n",
    "        \n",
    "        return k\n"
   ]
  }
 ],
 "metadata": {
  "kernelspec": {
   "display_name": "base",
   "language": "python",
   "name": "python3"
  },
  "language_info": {
   "codemirror_mode": {
    "name": "ipython",
    "version": 3
   },
   "file_extension": ".py",
   "mimetype": "text/x-python",
   "name": "python",
   "nbconvert_exporter": "python",
   "pygments_lexer": "ipython3",
   "version": "3.11.7"
  }
 },
 "nbformat": 4,
 "nbformat_minor": 2
}
