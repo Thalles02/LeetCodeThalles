{
 "cells": [
  {
   "cell_type": "code",
   "execution_count": 1,
   "metadata": {},
   "outputs": [],
   "source": [
    "# space for dependencies\n",
    "from typing import List"
   ]
  },
  {
   "cell_type": "code",
   "execution_count": null,
   "metadata": {},
   "outputs": [],
   "source": [
    "# 88. Merge Sorted Array - https://leetcode.com/problems/merge-sorted-array/?envType=study-plan-v2&envId=top-interview-150\n",
    "\n",
    "\n",
    "# My initial solution\n",
    "class Solution:\n",
    "    def merge(self, nums1: List[int], m: int, nums2: List[int], n: int) -> None:\n",
    "        \"\"\"\n",
    "        Do not return anything, modify nums1 in-place instead.\n",
    "        \"\"\"\n",
    "        count_array2 = 0\n",
    "        count_array1 = 0\n",
    "        array_3 = []\n",
    "\n",
    "        while len(array_3) < n+m:\n",
    "\n",
    "            if count_array1 < m and (count_array2 >= n or nums1[count_array1] <= nums2[count_array2]):\n",
    "                array_3.append(nums1[count_array1])\n",
    "                #print(f\"Primeiro caso i: {nums1[count_array1]}, k: {nums2[count_array2]}, Contador 1: {count_array1}, Contador 2: {count_array2}\")\n",
    "                count_array1 += 1\n",
    "            elif count_array2 < n:\n",
    "                array_3.append(nums2[count_array2])\n",
    "                #print(f\"Primeiro caso i: {nums1[count_array1]}, k: {nums2[count_array2]}, Contador 1: {count_array1}, Contador 2: {count_array2}\")\n",
    "                count_array2 += 1\n",
    "\n",
    "            if n == 0:\n",
    "                array_3 = nums1\n",
    "            \n",
    "            if m == 0:\n",
    "                array_3 = nums2\n",
    "\n",
    "        for idx in range(0,n+m):\n",
    "            nums1[idx] = array_3[idx]\n",
    "\n",
    "        print(nums1)\n",
    "\n",
    "\n",
    "# Optimized Solution\n",
    "class Solution:\n",
    "    def merge(self, nums1: List[int], m: int, nums2: List[int], n: int) -> None:\n",
    "        # Definir último elemento de nums1\n",
    "        last = m+n-1\n",
    "\n",
    "        #Merge \n",
    "        while m > 0 and n > 0:\n",
    "            if nums1[m-1] > nums2[n-1]:\n",
    "                nums1[last] = nums1[m-1]\n",
    "                m-=1\n",
    "            else:\n",
    "                nums1[last] = nums2[n-1]\n",
    "                n-=1\n",
    "            last-=1\n",
    "\n",
    "        # Quando faltar apenas o primeiro elemento\n",
    "        while n> 0:\n",
    "            nums1[last] = nums2[n-1]\n",
    "            n, last = n-1, last-1"
   ]
  },
  {
   "cell_type": "code",
   "execution_count": null,
   "metadata": {},
   "outputs": [],
   "source": [
    "# 27. Remove Element\n",
    "\n",
    "class Solution:\n",
    "    def removeElement(self, nums: List[int], val: int) -> int:\n",
    "        k = 0\n",
    "\n",
    "        for num in nums:\n",
    "            if num != val:\n",
    "                nums[k] = num\n",
    "                k += 1\n",
    "\n",
    "        return k\n"
   ]
  },
  {
   "cell_type": "code",
   "execution_count": null,
   "metadata": {},
   "outputs": [],
   "source": [
    "# 26. Remove Duplicates from Sorted Array\n",
    "\n",
    "class Solution:\n",
    "    def removeDuplicates(self, nums: List[int]) -> int:\n",
    "        k = 1\n",
    "        for i in range(1, len(nums)):\n",
    "            if nums[i] != nums[i - 1]:\n",
    "                nums[k] = nums[i] \n",
    "                k += 1  \n",
    "        \n",
    "        return k\n"
   ]
  },
  {
   "cell_type": "code",
   "execution_count": 1,
   "metadata": {},
   "outputs": [
    {
     "ename": "NameError",
     "evalue": "name 'List' is not defined",
     "output_type": "error",
     "traceback": [
      "\u001b[1;31m---------------------------------------------------------------------------\u001b[0m",
      "\u001b[1;31mNameError\u001b[0m                                 Traceback (most recent call last)",
      "Cell \u001b[1;32mIn[1], line 4\u001b[0m\n\u001b[0;32m      1\u001b[0m \u001b[38;5;66;03m# 80. Remove Duplicates from Sorted Array II\u001b[39;00m\n\u001b[0;32m      2\u001b[0m \n\u001b[0;32m      3\u001b[0m \u001b[38;5;66;03m#\u001b[39;00m\n\u001b[1;32m----> 4\u001b[0m \u001b[38;5;28;01mclass\u001b[39;00m \u001b[38;5;21;01mSolution\u001b[39;00m:\n\u001b[0;32m      5\u001b[0m     \u001b[38;5;28;01mdef\u001b[39;00m \u001b[38;5;21mremoveDuplicates\u001b[39m(\u001b[38;5;28mself\u001b[39m, nums: List[\u001b[38;5;28mint\u001b[39m]) \u001b[38;5;241m-\u001b[39m\u001b[38;5;241m>\u001b[39m \u001b[38;5;28mint\u001b[39m:\n\u001b[0;32m      6\u001b[0m         \u001b[38;5;28;01mif\u001b[39;00m \u001b[38;5;28mlen\u001b[39m(nums) \u001b[38;5;241m<\u001b[39m \u001b[38;5;241m3\u001b[39m:\n",
      "Cell \u001b[1;32mIn[1], line 5\u001b[0m, in \u001b[0;36mSolution\u001b[1;34m()\u001b[0m\n\u001b[0;32m      4\u001b[0m \u001b[38;5;28;01mclass\u001b[39;00m \u001b[38;5;21;01mSolution\u001b[39;00m:\n\u001b[1;32m----> 5\u001b[0m     \u001b[38;5;28;01mdef\u001b[39;00m \u001b[38;5;21mremoveDuplicates\u001b[39m(\u001b[38;5;28mself\u001b[39m, nums: \u001b[43mList\u001b[49m[\u001b[38;5;28mint\u001b[39m]) \u001b[38;5;241m-\u001b[39m\u001b[38;5;241m>\u001b[39m \u001b[38;5;28mint\u001b[39m:\n\u001b[0;32m      6\u001b[0m         \u001b[38;5;28;01mif\u001b[39;00m \u001b[38;5;28mlen\u001b[39m(nums) \u001b[38;5;241m<\u001b[39m \u001b[38;5;241m3\u001b[39m:\n\u001b[0;32m      7\u001b[0m             \u001b[38;5;28;01mreturn\u001b[39;00m \u001b[38;5;28mlen\u001b[39m(nums)\n",
      "\u001b[1;31mNameError\u001b[0m: name 'List' is not defined"
     ]
    }
   ],
   "source": [
    "# 80. Remove Duplicates from Sorted Array II\n",
    "\n",
    "# Estratégia: Usar um contador de repetidas para rastrear quantas vezes um número consecutivo aparece no array. Se o número aparecer até duas vezes, ele é incluído na posição k do array nums. Quando encontramos um novo número, o contador é resetado para 1. \n",
    "class Solution:\n",
    "    def removeDuplicates(self, nums: List[int]) -> int:\n",
    "        if len(nums) < 3:\n",
    "            return len(nums)\n",
    "        \n",
    "        k = 1  \n",
    "        count = 1 \n",
    "        \n",
    "        for i in range(1, len(nums)):\n",
    "            if nums[i] == nums[i - 1]:\n",
    "                count += 1\n",
    "            else:\n",
    "                count = 1\n",
    "            \n",
    "            if count <= 2:\n",
    "                nums[k] = nums[i]\n",
    "                k += 1\n",
    "\n",
    "            print(count, k, i, nums)\n",
    "        \n",
    "        return k\n"
   ]
  }
 ],
 "metadata": {
  "kernelspec": {
   "display_name": "base",
   "language": "python",
   "name": "python3"
  },
  "language_info": {
   "codemirror_mode": {
    "name": "ipython",
    "version": 3
   },
   "file_extension": ".py",
   "mimetype": "text/x-python",
   "name": "python",
   "nbconvert_exporter": "python",
   "pygments_lexer": "ipython3",
   "version": "3.9.9"
  }
 },
 "nbformat": 4,
 "nbformat_minor": 2
}
